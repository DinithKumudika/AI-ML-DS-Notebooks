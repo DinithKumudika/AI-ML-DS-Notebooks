{
 "cells": [
  {
   "cell_type": "code",
   "execution_count": null,
   "metadata": {},
   "outputs": [],
   "source": [
    "%pip install tiktoken\n",
    "%pip install openai"
   ]
  },
  {
   "cell_type": "markdown",
   "metadata": {},
   "source": [
    "##### tiktoken is a BPE tokenizer for use with OpenAI's models\n",
    "https://cookbook.openai.com/examples/how_to_count_tokens_with_tiktoken\n",
    "\n",
    "Encodings\n",
    "\n",
    "- Encodings specify how text is converted into tokens. Different models use different encodings.\n",
    "\n",
    "| Encoding name | OpenAI models                                                          |\n",
    "|---------------|:----------------------------------------------------------------------:|\n",
    "| `cl100k_base` |  `gpt-4`, `gpt-3.5-turbo`, `text-embedding-ada-002`, `text-embedding-3-small`, `text-embedding-3-large` |\n",
    "|  `p50k_base`  |  Codex models, `text-davinci-002`, `text-davinci-003`                                   |\n",
    "| `r50k_base`   | GPT-3 models like `davinci`                                              |"
   ]
  },
  {
   "cell_type": "markdown",
   "metadata": {},
   "source": [
    "##### convert text to tokens"
   ]
  },
  {
   "cell_type": "code",
   "execution_count": null,
   "metadata": {},
   "outputs": [],
   "source": [
    "import tiktoken\n",
    "encoding = tiktoken.get_encoding(\"cl100k_base\")\n",
    "tokens = encoding.encode(\"The boy went to the playground.\")\n",
    "print(tokens)\n",
    "print(f\"No of tokens: {len(tokens)}\")"
   ]
  },
  {
   "cell_type": "markdown",
   "metadata": {},
   "source": [
    "#####  load the correct encoding for a model name."
   ]
  },
  {
   "cell_type": "code",
   "execution_count": null,
   "metadata": {},
   "outputs": [],
   "source": [
    "encoding = tiktoken.encoding_for_model(\"gpt-3.5-turbo\")\n",
    "tokens = encoding.encode(\"The boy went to the playground.\")\n",
    "print(tokens)\n",
    "print(f\"No of tokens: {len(tokens)}\")"
   ]
  },
  {
   "cell_type": "markdown",
   "metadata": {},
   "source": [
    "##### convert tokens to text"
   ]
  },
  {
   "cell_type": "code",
   "execution_count": null,
   "metadata": {},
   "outputs": [],
   "source": [
    "encoding = tiktoken.get_encoding(\"cl100k_base\")\n",
    "tokens = [791, 8334, 4024, 311, 279, 42715, 13]\n",
    "text = encoding.decode(tokens)\n",
    "print(text)"
   ]
  }
 ],
 "metadata": {
  "kernelspec": {
   "display_name": ".venv",
   "language": "python",
   "name": "python3"
  },
  "language_info": {
   "codemirror_mode": {
    "name": "ipython",
    "version": 3
   },
   "file_extension": ".py",
   "mimetype": "text/x-python",
   "name": "python",
   "nbconvert_exporter": "python",
   "pygments_lexer": "ipython3",
   "version": "3.12.0"
  }
 },
 "nbformat": 4,
 "nbformat_minor": 2
}
