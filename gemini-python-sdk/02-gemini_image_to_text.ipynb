{
  "cells": [
    {
      "cell_type": "code",
      "execution_count": null,
      "metadata": {
        "colab": {
          "base_uri": "https://localhost:8080/"
        },
        "id": "kP5EDShwqq9s",
        "outputId": "bc024a23-9e26-4c88-baf7-4c1f29111197"
      },
      "outputs": [],
      "source": [
        "%pip install google-generativeai\n",
        "%pip install python-dotenv\n",
        "%pip install pillow"
      ]
    },
    {
      "cell_type": "code",
      "execution_count": null,
      "metadata": {
        "id": "7SsTtkQJqyXw"
      },
      "outputs": [],
      "source": [
        "import google.generativeai as genai\n",
        "from dotenv import load_dotenv\n",
        "import os\n",
        "\n",
        "load_dotenv()\n",
        "\n",
        "GEMINI_API_KEY = os.getenv('GEMINI_API_KEY')\n",
        "genai.configure(api_key=GEMINI_API_KEY)"
      ]
    },
    {
      "cell_type": "markdown",
      "metadata": {
        "id": "zAgxPf51rJaC"
      },
      "source": [
        "#### Load vision Model"
      ]
    },
    {
      "cell_type": "code",
      "execution_count": 3,
      "metadata": {
        "id": "nYU-SWREq45v"
      },
      "outputs": [],
      "source": [
        "model = genai.GenerativeModel(\"gemini-pro-vision\")"
      ]
    },
    {
      "cell_type": "markdown",
      "metadata": {
        "id": "CtWI9alKw7fl"
      },
      "source": [
        "#### Load image"
      ]
    },
    {
      "cell_type": "code",
      "execution_count": null,
      "metadata": {
        "colab": {
          "base_uri": "https://localhost:8080/",
          "height": 1000
        },
        "id": "R5RIvqMzrNiP",
        "outputId": "77d6b5c8-ec97-4a9f-b47b-ced3c62920ed"
      },
      "outputs": [],
      "source": [
        "from IPython.display import Image\n",
        "img = Image('./data/image.jpg')\n",
        "img"
      ]
    },
    {
      "cell_type": "code",
      "execution_count": null,
      "metadata": {
        "colab": {
          "base_uri": "https://localhost:8080/",
          "height": 35
        },
        "id": "oKi9q_4wspSo",
        "outputId": "18d394ed-6349-45cf-af02-67090bbb62ad"
      },
      "outputs": [],
      "source": [
        "response = model.generate_content(img)\n",
        "response.text"
      ]
    },
    {
      "cell_type": "markdown",
      "metadata": {
        "id": "K_Tgt3zRwNHS"
      },
      "source": [
        "###Provide both text and image in the prompt"
      ]
    },
    {
      "cell_type": "code",
      "execution_count": null,
      "metadata": {
        "colab": {
          "base_uri": "https://localhost:8080/",
          "height": 35
        },
        "id": "eEx09PRDwC7Y",
        "outputId": "6f098be4-2760-4784-df94-64d6dfca6518"
      },
      "outputs": [],
      "source": [
        "response = model.generate_content([\"Describe what is this image. How many vehicles are there in the picture?\", img])\n",
        "response.text"
      ]
    }
  ],
  "metadata": {
    "accelerator": "GPU",
    "colab": {
      "gpuType": "T4",
      "provenance": []
    },
    "kernelspec": {
      "display_name": "Python 3",
      "name": "python3"
    },
    "language_info": {
      "codemirror_mode": {
        "name": "ipython",
        "version": 3
      },
      "file_extension": ".py",
      "mimetype": "text/x-python",
      "name": "python",
      "nbconvert_exporter": "python",
      "pygments_lexer": "ipython3",
      "version": "3.12.0"
    }
  },
  "nbformat": 4,
  "nbformat_minor": 0
}
