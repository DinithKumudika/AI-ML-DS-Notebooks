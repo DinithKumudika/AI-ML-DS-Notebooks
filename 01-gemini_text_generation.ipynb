{
  "nbformat": 4,
  "nbformat_minor": 0,
  "metadata": {
    "colab": {
      "provenance": []
    },
    "kernelspec": {
      "name": "python3",
      "display_name": "Python 3"
    },
    "language_info": {
      "name": "python"
    }
  },
  "cells": [
    {
      "cell_type": "markdown",
      "source": [
        "###Install Packages"
      ],
      "metadata": {
        "id": "EQf7hcjWXeeY"
      }
    },
    {
      "cell_type": "code",
      "execution_count": null,
      "metadata": {
        "id": "fRCE1fYdWM0Y"
      },
      "outputs": [],
      "source": [
        "!pip install google-generativeai"
      ]
    },
    {
      "cell_type": "markdown",
      "source": [
        "###Import Libraries"
      ],
      "metadata": {
        "id": "A3TwgYXjYZFn"
      }
    },
    {
      "cell_type": "code",
      "source": [
        "import google.generativeai as genai\n",
        "from google.colab import userdata\n",
        "import os"
      ],
      "metadata": {
        "id": "3nyMTW86YWLN"
      },
      "execution_count": 4,
      "outputs": []
    },
    {
      "cell_type": "markdown",
      "source": [
        "###Set gemini api key as a environment variable"
      ],
      "metadata": {
        "id": "a1buggYdYeq-"
      }
    },
    {
      "cell_type": "code",
      "source": [
        "os.environ['GEMINI_API_KEY'] = userdata.get('GEMINI_API_KEY')"
      ],
      "metadata": {
        "id": "3txkU_JMXvkt"
      },
      "execution_count": 5,
      "outputs": []
    },
    {
      "cell_type": "markdown",
      "source": [
        "###Setup API key"
      ],
      "metadata": {
        "id": "6xT6YWPsZAdG"
      }
    },
    {
      "cell_type": "code",
      "source": [
        "genai.configure(api_key=os.environ['GEMINI_API_KEY'])"
      ],
      "metadata": {
        "id": "4fmBH2-6YyQm"
      },
      "execution_count": 6,
      "outputs": []
    },
    {
      "cell_type": "markdown",
      "source": [
        "###List all the supported models"
      ],
      "metadata": {
        "id": "nxHNwDFVapqJ"
      }
    },
    {
      "cell_type": "code",
      "source": [
        "for m in genai.list_models():\n",
        "  print(m)"
      ],
      "metadata": {
        "id": "iJlELcvqabPW"
      },
      "execution_count": null,
      "outputs": []
    },
    {
      "cell_type": "markdown",
      "source": [
        "###List only the generation Models"
      ],
      "metadata": {
        "id": "RoES0yQfa60O"
      }
    },
    {
      "cell_type": "code",
      "source": [
        "for m in genai.list_models():\n",
        "  if 'generateContent' in m.supported_generation_methods:\n",
        "    print(m.name)"
      ],
      "metadata": {
        "id": "FR2NpL25ZFL5"
      },
      "execution_count": null,
      "outputs": []
    },
    {
      "cell_type": "markdown",
      "source": [
        "###List only the Embedding Models"
      ],
      "metadata": {
        "id": "kbXCOv1pbMzF"
      }
    },
    {
      "cell_type": "code",
      "source": [
        "for m in genai.list_models():\n",
        "  if 'embedContent' in m.supported_generation_methods:\n",
        "    print(m.name)"
      ],
      "metadata": {
        "id": "lxr351E4bHwu"
      },
      "execution_count": null,
      "outputs": []
    },
    {
      "cell_type": "markdown",
      "source": [
        "###Load gemini-pro model"
      ],
      "metadata": {
        "id": "bpf6YtOkbygk"
      }
    },
    {
      "cell_type": "code",
      "source": [
        "model = genai.GenerativeModel(\"gemini-pro\")"
      ],
      "metadata": {
        "id": "mDFcx77AbpZP"
      },
      "execution_count": 24,
      "outputs": []
    },
    {
      "cell_type": "markdown",
      "source": [
        "###Get response from the model"
      ],
      "metadata": {
        "id": "UwyEN80ScltH"
      }
    },
    {
      "cell_type": "code",
      "source": [
        "response = model.generate_content(\"hello, who are you?\")\n",
        "print(response.text)"
      ],
      "metadata": {
        "id": "vpFvk1oYb4_H"
      },
      "execution_count": null,
      "outputs": []
    },
    {
      "cell_type": "markdown",
      "source": [
        "###Count tokens in the input text"
      ],
      "metadata": {
        "id": "jDZVgBG5cqjz"
      }
    },
    {
      "cell_type": "code",
      "source": [
        "tokens = model.count_tokens(\"hello, who are you?\")\n",
        "print(tokens)"
      ],
      "metadata": {
        "id": "ueViSON7cWlb"
      },
      "execution_count": null,
      "outputs": []
    }
  ]
}