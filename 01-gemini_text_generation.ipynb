{
  "cells": [
    {
      "cell_type": "markdown",
      "metadata": {
        "id": "EQf7hcjWXeeY"
      },
      "source": [
        "#### Install Packages"
      ]
    },
    {
      "cell_type": "code",
      "execution_count": null,
      "metadata": {
        "id": "fRCE1fYdWM0Y"
      },
      "outputs": [],
      "source": [
        "%pip install google-generativeai\n",
        "%pip install python-dotenv"
      ]
    },
    {
      "cell_type": "markdown",
      "metadata": {
        "id": "A3TwgYXjYZFn"
      },
      "source": [
        "#### Import Libraries"
      ]
    },
    {
      "cell_type": "code",
      "execution_count": null,
      "metadata": {
        "id": "3nyMTW86YWLN"
      },
      "outputs": [],
      "source": [
        "import google.generativeai as genai\n",
        "from dotenv import load_dotenv\n",
        "import os"
      ]
    },
    {
      "cell_type": "markdown",
      "metadata": {
        "id": "a1buggYdYeq-"
      },
      "source": [
        "#### Get gemini api key from environment"
      ]
    },
    {
      "cell_type": "code",
      "execution_count": null,
      "metadata": {
        "id": "3txkU_JMXvkt"
      },
      "outputs": [],
      "source": [
        "load_dotenv()\n",
        "GEMINI_API_KEY = os.getenv('GEMINI_API_KEY')"
      ]
    },
    {
      "cell_type": "markdown",
      "metadata": {
        "id": "6xT6YWPsZAdG"
      },
      "source": [
        "#### Setup API key"
      ]
    },
    {
      "cell_type": "code",
      "execution_count": 4,
      "metadata": {
        "id": "4fmBH2-6YyQm"
      },
      "outputs": [],
      "source": [
        "genai.configure(api_key=GEMINI_API_KEY)"
      ]
    },
    {
      "cell_type": "markdown",
      "metadata": {
        "id": "nxHNwDFVapqJ"
      },
      "source": [
        "#### List all the supported models"
      ]
    },
    {
      "cell_type": "code",
      "execution_count": null,
      "metadata": {
        "id": "iJlELcvqabPW"
      },
      "outputs": [],
      "source": [
        "for m in genai.list_models():\n",
        "  print(m)"
      ]
    },
    {
      "cell_type": "markdown",
      "metadata": {
        "id": "RoES0yQfa60O"
      },
      "source": [
        "#### List only the generation Models"
      ]
    },
    {
      "cell_type": "code",
      "execution_count": null,
      "metadata": {
        "id": "FR2NpL25ZFL5"
      },
      "outputs": [],
      "source": [
        "for m in genai.list_models():\n",
        "  if 'generateContent' in m.supported_generation_methods:\n",
        "    print(m.name)"
      ]
    },
    {
      "cell_type": "markdown",
      "metadata": {
        "id": "kbXCOv1pbMzF"
      },
      "source": [
        "#### List only the Embedding Models"
      ]
    },
    {
      "cell_type": "code",
      "execution_count": null,
      "metadata": {
        "id": "lxr351E4bHwu"
      },
      "outputs": [],
      "source": [
        "for m in genai.list_models():\n",
        "  if 'embedContent' in m.supported_generation_methods:\n",
        "    print(m.name)"
      ]
    },
    {
      "cell_type": "markdown",
      "metadata": {
        "id": "bpf6YtOkbygk"
      },
      "source": [
        "#### Load gemini-pro model"
      ]
    },
    {
      "cell_type": "code",
      "execution_count": 8,
      "metadata": {
        "id": "mDFcx77AbpZP"
      },
      "outputs": [],
      "source": [
        "model = genai.GenerativeModel(\"gemini-pro\")"
      ]
    },
    {
      "cell_type": "markdown",
      "metadata": {
        "id": "UwyEN80ScltH"
      },
      "source": [
        "#### Get response from the model"
      ]
    },
    {
      "cell_type": "code",
      "execution_count": null,
      "metadata": {
        "id": "vpFvk1oYb4_H"
      },
      "outputs": [],
      "source": [
        "response = model.generate_content(\"hello, who are you?\")\n",
        "print(response.text)"
      ]
    },
    {
      "cell_type": "markdown",
      "metadata": {
        "id": "jDZVgBG5cqjz"
      },
      "source": [
        "#### Count tokens in the input text"
      ]
    },
    {
      "cell_type": "code",
      "execution_count": null,
      "metadata": {
        "id": "ueViSON7cWlb"
      },
      "outputs": [],
      "source": [
        "tokens = model.count_tokens(\"hello, who are you?\")\n",
        "print(tokens)"
      ]
    }
  ],
  "metadata": {
    "colab": {
      "provenance": []
    },
    "kernelspec": {
      "display_name": "Python 3",
      "name": "python3"
    },
    "language_info": {
      "codemirror_mode": {
        "name": "ipython",
        "version": 3
      },
      "file_extension": ".py",
      "mimetype": "text/x-python",
      "name": "python",
      "nbconvert_exporter": "python",
      "pygments_lexer": "ipython3",
      "version": "3.12.0"
    }
  },
  "nbformat": 4,
  "nbformat_minor": 0
}
